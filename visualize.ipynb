{
 "cells": [
  {
   "cell_type": "code",
   "execution_count": null,
   "metadata": {},
   "outputs": [],
   "source": [
    "import torch\n",
    "import os\n",
    "import models.unet as M\n",
    "from utils.dataloader import pascal_loader, remove_one_hot_enc\n",
    "from utils.misc import results_dir\n",
    "from torchvision import transforms\n",
    "\n",
    "weight_path = os.path.join(results_dir(), 'unet_test_2', 'real', 'weights.pth')\n",
    "model = M.UNET()\n",
    "model.load_state_dict(torch.load(weight_path))\n",
    "\n",
    "_, testloader = pascal_loader(1)\n",
    "images, masks = iter(testloader).next()\n",
    "\n",
    "dataiter = iter(testloader)\n",
    "image, label = dataiter.next()\n",
    "label = remove_one_hot_enc(label)\n",
    "\n",
    "image = image.squeeze(0)\n",
    "print(image.shape)\n",
    "\n",
    "label_pil = transforms.ToPILImage()(label).convert('P')\n",
    "print(label_pil)\n",
    "label_pil.show()"
   ]
  },
  {
   "cell_type": "code",
   "execution_count": null,
   "metadata": {},
   "outputs": [],
   "source": [
    "with torch.no_grad():\n",
    "    pred = model(image)\n",
    "    _, pred = torch.max(pred.data, 1)\n",
    "\n",
    "pred_pil = transforms.ToPILImage()(pred).convert('P')\n",
    "print(pred_pil)\n",
    "pred_pil.show()"
   ]
  },
  {
   "cell_type": "code",
   "execution_count": null,
   "metadata": {},
   "outputs": [],
   "source": []
  }
 ],
 "metadata": {
  "interpreter": {
   "hash": "51f072115e4ede0df4f0ff26e3ff1d3ecef06754f0f9865fe9e0509eeeac4e56"
  },
  "kernelspec": {
   "display_name": "Python 3.8.10 64-bit ('env': venv)",
   "language": "python",
   "name": "python3"
  },
  "language_info": {
   "codemirror_mode": {
    "name": "ipython",
    "version": 3
   },
   "file_extension": ".py",
   "mimetype": "text/x-python",
   "name": "python",
   "nbconvert_exporter": "python",
   "pygments_lexer": "ipython3",
   "version": "3.8.10"
  },
  "orig_nbformat": 4
 },
 "nbformat": 4,
 "nbformat_minor": 2
}
